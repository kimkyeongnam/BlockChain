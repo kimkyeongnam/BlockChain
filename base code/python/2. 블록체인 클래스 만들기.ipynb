{
  "nbformat": 4,
  "nbformat_minor": 0,
  "metadata": {
    "colab": {
      "name": "2.  블록체인 클래스 만들기.ipynb",
      "provenance": [],
      "authorship_tag": "ABX9TyP5BGUD2xwJanU77sbZORsT"
    },
    "kernelspec": {
      "name": "python3",
      "display_name": "Python 3"
    }
  },
  "cells": [
    {
      "cell_type": "markdown",
      "metadata": {
        "id": "zTH1W8SMvfzn",
        "colab_type": "text"
      },
      "source": [
        "## 블록체인 클래스가 가져야 하는 값과 메소드\n",
        "* 모든 블록들의 list\n",
        "* 모든 transaction들\n",
        "* ```genesis_block```을 만드는 메소드\n",
        "* 블록을 추가하는 메소드\n",
        "* chain validation"
      ]
    },
    {
      "cell_type": "markdown",
      "metadata": {
        "id": "33efx5Z3v5Kl",
        "colab_type": "text"
      },
      "source": [
        "### init\n",
        "블록체인 클래스에서 처음에 필요한 항목들을 초기화.  \n",
        "모든 블록을 저장할 ```chain``` list와 모든 transaction 데이터를 저장할 ```all_transactions```를 추가한다\n",
        "\n",
        "* ```genesis block```: 블록 체인의 첫 블록으로 이전 블록을 갖지 않는 유일한 블록<br>transactions(거래 내역)과 이전 해시 값을 가질 필요가 없으므로 ```Block({}, 0)```으로 생성 가능\n",
        "* 클래스가 사용될 때 바로 genesis block이 생성되도록 설정"
      ]
    },
    {
      "cell_type": "code",
      "metadata": {
        "id": "j1SSxMiNx46i",
        "colab_type": "code",
        "colab": {}
      },
      "source": [
        "from block import Block\n",
        "\n",
        "class Blockchain:\n",
        "    def __init__(self):\n",
        "      self.chain = []\n",
        "      self.all_transactions = []\n",
        "      self.genesis_block()\n",
        "\n",
        "    def genesis_block(self):\n",
        "      transactions = {}\n",
        "      block = Block(transactions, 0)\n",
        "      self.chain.append(block)\n",
        "      return self.chain"
      ],
      "execution_count": null,
      "outputs": []
    },
    {
      "cell_type": "markdown",
      "metadata": {
        "id": "xcs3r1i0wzSx",
        "colab_type": "text"
      },
      "source": [
        "### POW(Proof Of Work)\n",
        "새로운 블록을 추가하기 위해 블록체인의 작업증명 함수를 추가하자.  \n",
        "원래는 새로운 블록이 추가될 때 block의 difficulty에 따라서 nonce값을 증가시키며 해당 범위에 있는 hash값을 찾는 작업이 필요하다.  \n",
        "\n",
        "* 이번 예제에서는 이를 내부 함수로 만들어서 자동으로 POW가 진행되도록 작성함:<br>\n",
        "  ```proof_of_word```는 difficulty에 따라서 해당 hash를 찾기 위해 계속nonce값을 더하면서 맞는 값을 찾아낸다:\n",
        "  ```\n",
        "  difficulty가 2인 경우, (proof_of_work(block, difficulty=2)) hash의 처음 두 자리가 00으로 시작되는 해쉬값을 찾기 위해 계속 nonce를 더해간다.\n",
        "  ```"
      ]
    },
    {
      "cell_type": "code",
      "metadata": {
        "id": "BOtpLDNlcr7l",
        "colab_type": "code",
        "colab": {}
      },
      "source": [
        "from block import Block\n",
        "\n",
        "class Blockchain:\n",
        "    def __init__(self):\n",
        "      self.chain = []\n",
        "      self.all_transactions = []\n",
        "      self.genesis_block()\n",
        "\n",
        "    def genesis_block(self):\n",
        "      transactions = {}\n",
        "      block = Block(transactions, 0)\n",
        "      self.chain.append(block)\n",
        "      return self.chain\n",
        "\n",
        "    def proof_of_work(self, block, difficulty=2):\n",
        "      proof = block.generate_hash()\n",
        "\n",
        "      while proof[:2] != '0'*difficulty:\n",
        "        block.nonce += 1\n",
        "        proof = block.generate_hash()\n",
        "      return proof"
      ],
      "execution_count": null,
      "outputs": []
    },
    {
      "cell_type": "markdown",
      "metadata": {
        "id": "oUyglQZSyjM1",
        "colab_type": "text"
      },
      "source": [
        "### block 추가하기\n",
        "새로운 블록이 추가되는 ```add_block```메소드를 추가하자.  \n",
        "genesis block과는 다르게 이후 블록들은 transactions, 이전 hash값을 가짐"
      ]
    },
    {
      "cell_type": "code",
      "metadata": {
        "colab_type": "code",
        "id": "ga4abB_Lyw_9",
        "colab": {}
      },
      "source": [
        "from block import Block\n",
        "\n",
        "class Blockchain:\n",
        "    def __init__(self):\n",
        "      self.chain = []\n",
        "      self.all_transactions = []\n",
        "      self.genesis_block()\n",
        "\n",
        "    def genesis_block(self):\n",
        "      transactions = {}\n",
        "      block = Block(transactions, 0)\n",
        "      self.chain.append(block)\n",
        "      return self.chain\n",
        "\n",
        "    def add_block(self, transactions):\n",
        "      previous_block_hash = self.chain[len(self.chain) - 1].hash\n",
        "      new_block = Block(transactions, previous_block_hash)\n",
        "      proof = self.proof_of_work(new_block)\n",
        "      self.chain.append(new_block)\n",
        "      return proof, new_block\n",
        "\n",
        "    def proof_of_work(self, block, difficulty=2):\n",
        "      proof = block.generate_hash()\n",
        "\n",
        "      while proof[:2] != '0'*difficulty:\n",
        "        block.nonce += 1\n",
        "        proof = block.generate_hash()\n",
        "      return proof"
      ],
      "execution_count": null,
      "outputs": []
    },
    {
      "cell_type": "markdown",
      "metadata": {
        "id": "sb2VA7TSzDGW",
        "colab_type": "text"
      },
      "source": [
        "### validate\n",
        "여기까지가 초기 형태의 블록 체인이다!  \n",
        "...라고 하고싶지만, 지금은 validation이 안되기 때문에 블록의 정보를 변경하더라도 해당 블록 체인이 validate한지 알 수 없다.\n",
        "\n",
        "따라서 ```validate_chain```메소드를 만들어 해당 블록체인의 위변조가 없었는지(= hash값이 변경되지 않았는지) 확인해보자"
      ]
    },
    {
      "cell_type": "code",
      "metadata": {
        "id": "KVis2r9RzW7S",
        "colab_type": "code",
        "colab": {}
      },
      "source": [
        "from block import Block\n",
        "\n",
        "class Blockchain:\n",
        "    def __init__(self):\n",
        "      self.chain = []\n",
        "      self.all_transactions = []\n",
        "      self.genesis_block()\n",
        "\n",
        "    def genesis_block(self):\n",
        "      transactions = {}\n",
        "      block = Block(transactions, 0)\n",
        "      self.chain.append(block)\n",
        "      return self.chain\n",
        "\n",
        "    def add_block(self, transactions):\n",
        "      previous_block_hash = self.chain[len(self.chain) - 1].hash\n",
        "      new_block = Block(transactions, previous_block_hash)\n",
        "      proof = self.proof_of_work(new_block)\n",
        "      self.chain.append(new_block)\n",
        "      return proof, new_block\n",
        "\n",
        "    def proof_of_work(self, block, difficulty=2):\n",
        "      proof = block.generate_hash()\n",
        "\n",
        "      while proof[:2] != '0'*difficulty:\n",
        "        block.nonce += 1\n",
        "        proof = block.generate_hash()\n",
        "      return proof\n",
        "\n",
        "    def validate_chain(self):\n",
        "      for i in range(1, len(self.chain)):\n",
        "        current = self.chain[i]\n",
        "        previous = self.chain[i - 1]\n",
        "        if current.hash != current.generate_hash():\n",
        "          print(\"The current hash of the block does not equal the generated hash of the block.\")\n",
        "          return False\n",
        "        if previous.hash != previous.generate_hash():\n",
        "          print(\"The previous hash of the block does not equal the previous hash value stored in the current block.\")\n",
        "          return False\n",
        "        if current.previous_hash != previous.hash:\n",
        "          return False\n",
        "        return True"
      ],
      "execution_count": null,
      "outputs": []
    }
  ]
}