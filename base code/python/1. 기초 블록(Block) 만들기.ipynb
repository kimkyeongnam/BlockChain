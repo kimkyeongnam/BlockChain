{
 "cells": [
  {
   "cell_type": "markdown",
   "metadata": {},
   "source": [
    "# BlockChain by Python\n",
    "\n",
    "### Block: 하나의 블록을 의미\n",
    "* ```timestamp```: 언제 만들어졌는가\n",
    "* ```hash```: 현재 블록의 해시값\n",
    "* ```previous hash```: 이전 블록의 해시값\n",
    "* ```nonce```: 논스\n",
    "* ```transaction```: 실제 데이터 정보인 트랜젝션"
   ]
  },
  {
   "cell_type": "code",
   "execution_count": 1,
   "metadata": {},
   "outputs": [],
   "source": [
    "class Block:\n",
    "    def __init__(self, transactions, previous_hash, nonce = 0):\n",
    "        self.timestamp = datetime.now()              # datetime.now()로 현재 값을 timestamp\n",
    "        self.transaction = transactions\n",
    "        self.previous_hash = previous_hash\n",
    "        self.nonce = nonce\n",
    "        self.hash = generate_hash                    # generate_hash()함수로 해시 생성"
   ]
  },
  {
   "cell_type": "markdown",
   "metadata": {},
   "source": [
    "### generate_hash() 만들기\n",
    "파이썬에서는 ```hashlib```를 활용해서 ```sha256```을 쉽게 구현할 수 있음  \n",
    "해시 처리 하고싶은 정보를 ```sha256```안에 넣고 (string이면 ```encode()```를 해야 함)  \n",
    "이를 ```hexdigest```함수로 사용하여 프린트 할 수 있음"
   ]
  },
  {
   "cell_type": "code",
   "execution_count": 2,
   "metadata": {},
   "outputs": [
    {
     "name": "stdout",
     "output_type": "stream",
     "text": [
      "5d3749253e0c5c1f36e44ad8c3275578957e4c9cfed4a95d52653078cdbf86f3\n"
     ]
    }
   ],
   "source": [
    "from hashlib import sha256\n",
    "\n",
    "test_content = 'test string for making hash'\n",
    "test_hash = sha256(test_content.encode())\n",
    "print(test_hash.hexdigest())"
   ]
  },
  {
   "cell_type": "markdown",
   "metadata": {},
   "source": [
    "### 전체코드"
   ]
  },
  {
   "cell_type": "code",
   "execution_count": 3,
   "metadata": {},
   "outputs": [],
   "source": [
    "from datetime import datetime\n",
    "from hashlib import sha256\n",
    "\n",
    "class Block:\n",
    "    def __init__(self, transactions, previous_hash, nonce = 0):\n",
    "        self.timestamp = datetime.now()\n",
    "        self.transactions = transactions\n",
    "        self.previous_hash = previous_hash\n",
    "        self.nonce = nonce\n",
    "        self.hash = self.generate_hash()\n",
    "\n",
    "    def print_block(self):\n",
    "        # prints block contents\n",
    "        print(\"timestamp:\", self.timestamp)\n",
    "        print(\"transactions:\", self.transactions)\n",
    "        print(\"current hash:\", self.generate_hash())\n",
    "\n",
    "    def generate_hash(self):\n",
    "        # hash the blocks contents\n",
    "        block_contents = str(self.timestamp) + str(self.transactions) + str(self.previous_hash) + str(self.nonce)\n",
    "        block_hash = sha256(block_contents.encode())\n",
    "        return block_hash.hexdigest()"
   ]
  }
 ],
 "metadata": {
  "kernelspec": {
   "display_name": "Python 3",
   "language": "python",
   "name": "python3"
  },
  "language_info": {
   "codemirror_mode": {
    "name": "ipython",
    "version": 3
   },
   "file_extension": ".py",
   "mimetype": "text/x-python",
   "name": "python",
   "nbconvert_exporter": "python",
   "pygments_lexer": "ipython3",
   "version": "3.6.10"
  }
 },
 "nbformat": 4,
 "nbformat_minor": 4
}
